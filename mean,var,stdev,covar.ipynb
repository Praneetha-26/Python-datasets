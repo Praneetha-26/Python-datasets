{
 "cells": [
  {
   "cell_type": "code",
   "execution_count": 13,
   "id": "1be7f0c8-3bdb-483d-9681-3ea24235b93d",
   "metadata": {},
   "outputs": [
    {
     "name": "stdout",
     "output_type": "stream",
     "text": [
      "   Student ID          Name  Age Gender Grade Level  Math Score  \\\n",
      "0        1001      John Doe   16      M        11th          85   \n",
      "1        1002    Jane Smith   15      F        10th          92   \n",
      "2        1003  Mike Johnson   17      M        12th          78   \n",
      "3        1004    Emma Brown   16      F        11th          88   \n",
      "4        1005    Oliver Lee   17      M        12th          79   \n",
      "5        1006   Lily Wilson   15      F        10th          95   \n",
      "6        1007    Noah Davis   18      M        12th          82   \n",
      "7        1008     Ava Moore   14      F         9th          91   \n",
      "8        1009   Lucas White   16      M        11th          87   \n",
      "9        1010  Sophia Black   15      F        10th          89   \n",
      "\n",
      "   Science Score  English Score  History Score  Art Score  Attendance (%)  \\\n",
      "0             90             88             82         78              95   \n",
      "1             85             91             87         80              98   \n",
      "2             80             82             76         75              92   \n",
      "3             89             85             90         92              96   \n",
      "4             84             87             83         80              93   \n",
      "5             90             92             85         88              97   \n",
      "6             85             78             79         74              94   \n",
      "7             93             94             92         86              99   \n",
      "8             89             85             90         77              95   \n",
      "9             84             90             80         82              96   \n",
      "\n",
      "  Extracurricular Activities  Admission year  \n",
      "0          Basketball, Chess            2022  \n",
      "1              Debate, Drama            2021  \n",
      "2              Soccer, Music            2022  \n",
      "3            Volleyball, Art            2020  \n",
      "4         Football, Robotics            2021  \n",
      "5        Drama, Volunteering            2020  \n",
      "6           Baseball, Coding            2022  \n",
      "7          Swimming, Writing            2019  \n",
      "8         Basketball, Coding            2023  \n",
      "9              Tennis, Choir            2021  \n"
     ]
    }
   ],
   "source": [
    "import pandas as pd\n",
    "data=pd.read_excel('Book1.xlsx')\n",
    "print(data)"
   ]
  },
  {
   "cell_type": "code",
   "execution_count": 11,
   "id": "7c12088a-61c8-48a4-8c57-f2ee904f07e3",
   "metadata": {},
   "outputs": [
    {
     "name": "stdout",
     "output_type": "stream",
     "text": [
      "87.2\n",
      "21.36\n"
     ]
    }
   ],
   "source": [
    "mean=data['English Score'].sum()/len(data['English Score'])\n",
    "squared_diffs = [(x - mean) ** 2 for x in data['English Score']]\n",
    "\n",
    "# Calculate variance\n",
    "variance = sum(squared_diffs)/len(data['English Score'])\n",
    "\n",
    "print(mean)\n",
    "print(variance)\n"
   ]
  },
  {
   "cell_type": "code",
   "execution_count": 12,
   "id": "a5ddc8e1-7b8d-418d-8651-20b01ea4d053",
   "metadata": {},
   "outputs": [
    {
     "name": "stdout",
     "output_type": "stream",
     "text": [
      "4.621688003316537\n"
     ]
    }
   ],
   "source": [
    "import math\n",
    "stdev=math.sqrt(variance)\n",
    "print(stdev)"
   ]
  },
  {
   "cell_type": "code",
   "execution_count": 15,
   "id": "5cd88f40-df8a-4912-bc12-5be55448e18e",
   "metadata": {},
   "outputs": [
    {
     "name": "stdout",
     "output_type": "stream",
     "text": [
      "14.459999999999997\n"
     ]
    }
   ],
   "source": [
    "x=data['English Score']\n",
    "y=data['Art Score']\n",
    "mean_x=data['English Score'].sum()/len(data['English Score'])\n",
    "mean_y=data['Art Score'].sum()/len(data['Art Score'])\n",
    "cov_sum=sum((x[i]-mean_x)*(y[i]-mean_y) for i in range(len(data['English Score'])))\n",
    "covariance=cov_sum/len(data['English Score'])\n",
    "print(covariance)"
   ]
  },
  {
   "cell_type": "code",
   "execution_count": null,
   "id": "3479875f-6d77-4fc9-905b-699ce9c9af65",
   "metadata": {},
   "outputs": [],
   "source": []
  },
  {
   "cell_type": "code",
   "execution_count": null,
   "id": "f656346c-7652-4ee2-921d-43e357736804",
   "metadata": {},
   "outputs": [],
   "source": []
  }
 ],
 "metadata": {
  "kernelspec": {
   "display_name": "Python [conda env:base] *",
   "language": "python",
   "name": "conda-base-py"
  },
  "language_info": {
   "codemirror_mode": {
    "name": "ipython",
    "version": 3
   },
   "file_extension": ".py",
   "mimetype": "text/x-python",
   "name": "python",
   "nbconvert_exporter": "python",
   "pygments_lexer": "ipython3",
   "version": "3.12.7"
  }
 },
 "nbformat": 4,
 "nbformat_minor": 5
}
