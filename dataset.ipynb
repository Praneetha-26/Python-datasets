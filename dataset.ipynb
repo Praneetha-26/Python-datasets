{
 "cells": [
  {
   "cell_type": "code",
   "execution_count": 8,
   "id": "036cb2cb-641a-43d2-a915-f36c5d7e58d0",
   "metadata": {},
   "outputs": [
    {
     "data": {
      "text/html": [
       "<div>\n",
       "<style scoped>\n",
       "    .dataframe tbody tr th:only-of-type {\n",
       "        vertical-align: middle;\n",
       "    }\n",
       "\n",
       "    .dataframe tbody tr th {\n",
       "        vertical-align: top;\n",
       "    }\n",
       "\n",
       "    .dataframe thead th {\n",
       "        text-align: right;\n",
       "    }\n",
       "</style>\n",
       "<table border=\"1\" class=\"dataframe\">\n",
       "  <thead>\n",
       "    <tr style=\"text-align: right;\">\n",
       "      <th></th>\n",
       "      <th>st_id</th>\n",
       "      <th>Name</th>\n",
       "      <th>Maths</th>\n",
       "      <th>Science</th>\n",
       "    </tr>\n",
       "  </thead>\n",
       "  <tbody>\n",
       "    <tr>\n",
       "      <th>0</th>\n",
       "      <td>101</td>\n",
       "      <td>Arun</td>\n",
       "      <td>85.0</td>\n",
       "      <td>78.0</td>\n",
       "    </tr>\n",
       "    <tr>\n",
       "      <th>1</th>\n",
       "      <td>102</td>\n",
       "      <td>Raju</td>\n",
       "      <td>NaN</td>\n",
       "      <td>92.0</td>\n",
       "    </tr>\n",
       "    <tr>\n",
       "      <th>2</th>\n",
       "      <td>103</td>\n",
       "      <td>Chitra</td>\n",
       "      <td>75.0</td>\n",
       "      <td>NaN</td>\n",
       "    </tr>\n",
       "    <tr>\n",
       "      <th>3</th>\n",
       "      <td>104</td>\n",
       "      <td>Sita</td>\n",
       "      <td>88.0</td>\n",
       "      <td>85.0</td>\n",
       "    </tr>\n",
       "    <tr>\n",
       "      <th>4</th>\n",
       "      <td>105</td>\n",
       "      <td>Ramu</td>\n",
       "      <td>60.0</td>\n",
       "      <td>70.0</td>\n",
       "    </tr>\n",
       "    <tr>\n",
       "      <th>5</th>\n",
       "      <td>106</td>\n",
       "      <td>Latha</td>\n",
       "      <td>999.0</td>\n",
       "      <td>100.0</td>\n",
       "    </tr>\n",
       "  </tbody>\n",
       "</table>\n",
       "</div>"
      ],
      "text/plain": [
       "   st_id    Name  Maths  Science\n",
       "0    101    Arun   85.0     78.0\n",
       "1    102    Raju    NaN     92.0\n",
       "2    103  Chitra   75.0      NaN\n",
       "3    104    Sita   88.0     85.0\n",
       "4    105    Ramu   60.0     70.0\n",
       "5    106   Latha  999.0    100.0"
      ]
     },
     "execution_count": 8,
     "metadata": {},
     "output_type": "execute_result"
    }
   ],
   "source": [
    "import pandas as pd\n",
    "import numpy as np\n",
    "\n",
    "data = {\n",
    "    'st_id': [101, 102, 103, 104, 105, 106],\n",
    "    'Name': ['Arun', 'Raju', 'Chitra', 'Sita', 'Ramu', 'Latha'],\n",
    "    'Maths': [85, np.nan, 75, 88, 60, 999],      # 999 is an outlier, np.nan is missing\n",
    "    'Science': [78, 92, np.nan, 85, 70, 100]     # Missing value at index 2\n",
    "}\n",
    "\n",
    "df = pd.DataFrame(data)\n",
    "df"
   ]
  },
  {
   "cell_type": "code",
   "execution_count": 12,
   "id": "27becbac-a057-48c6-adb4-7b4bf8e03a07",
   "metadata": {},
   "outputs": [
    {
     "name": "stdout",
     "output_type": "stream",
     "text": [
      "\n",
      "After Attribute selection:\n",
      "    Maths  Science\n",
      "0   85.0     78.0\n",
      "1    NaN     92.0\n",
      "2   75.0      NaN\n",
      "3   88.0     85.0\n",
      "4   60.0     70.0\n",
      "5  999.0    100.0\n"
     ]
    }
   ],
   "source": [
    "df_selected = df[['Maths', 'Science']]\n",
    "print(\"\\nAfter Attribute selection:\\n\", df_selected)\n"
   ]
  },
  {
   "cell_type": "code",
   "execution_count": 14,
   "id": "eea807d8-56e2-4668-a914-d6fc79790a55",
   "metadata": {},
   "outputs": [
    {
     "name": "stdout",
     "output_type": "stream",
     "text": [
      "\n",
      "After Handling Missing Values:\n",
      "    Maths  Science\n",
      "0   85.0     78.0\n",
      "1  261.4     92.0\n",
      "2   75.0     85.0\n",
      "3   88.0     85.0\n",
      "4   60.0     70.0\n",
      "5  999.0    100.0\n"
     ]
    },
    {
     "name": "stderr",
     "output_type": "stream",
     "text": [
      "C:\\Users\\macha\\AppData\\Local\\Temp\\ipykernel_19720\\689471607.py:1: FutureWarning: A value is trying to be set on a copy of a DataFrame or Series through chained assignment using an inplace method.\n",
      "The behavior will change in pandas 3.0. This inplace method will never work because the intermediate object on which we are setting values always behaves as a copy.\n",
      "\n",
      "For example, when doing 'df[col].method(value, inplace=True)', try using 'df.method({col: value}, inplace=True)' or df[col] = df[col].method(value) instead, to perform the operation inplace on the original object.\n",
      "\n",
      "\n",
      "  df_selected['Maths'].fillna(df_selected['Maths'].mean(), inplace=True)\n",
      "C:\\Users\\macha\\AppData\\Local\\Temp\\ipykernel_19720\\689471607.py:1: SettingWithCopyWarning: \n",
      "A value is trying to be set on a copy of a slice from a DataFrame\n",
      "\n",
      "See the caveats in the documentation: https://pandas.pydata.org/pandas-docs/stable/user_guide/indexing.html#returning-a-view-versus-a-copy\n",
      "  df_selected['Maths'].fillna(df_selected['Maths'].mean(), inplace=True)\n",
      "C:\\Users\\macha\\AppData\\Local\\Temp\\ipykernel_19720\\689471607.py:2: FutureWarning: A value is trying to be set on a copy of a DataFrame or Series through chained assignment using an inplace method.\n",
      "The behavior will change in pandas 3.0. This inplace method will never work because the intermediate object on which we are setting values always behaves as a copy.\n",
      "\n",
      "For example, when doing 'df[col].method(value, inplace=True)', try using 'df.method({col: value}, inplace=True)' or df[col] = df[col].method(value) instead, to perform the operation inplace on the original object.\n",
      "\n",
      "\n",
      "  df_selected['Science'].fillna(df_selected['Science'].mean(), inplace=True)\n",
      "C:\\Users\\macha\\AppData\\Local\\Temp\\ipykernel_19720\\689471607.py:2: SettingWithCopyWarning: \n",
      "A value is trying to be set on a copy of a slice from a DataFrame\n",
      "\n",
      "See the caveats in the documentation: https://pandas.pydata.org/pandas-docs/stable/user_guide/indexing.html#returning-a-view-versus-a-copy\n",
      "  df_selected['Science'].fillna(df_selected['Science'].mean(), inplace=True)\n"
     ]
    }
   ],
   "source": [
    "df_selected['Maths'].fillna(df_selected['Maths'].mean(), inplace=True)\n",
    "df_selected['Science'].fillna(df_selected['Science'].mean(), inplace=True)\n",
    "print(\"\\nAfter Handling Missing Values:\\n\", df_selected)\n"
   ]
  },
  {
   "cell_type": "code",
   "execution_count": 19,
   "id": "16b9c4c6-1c62-48ae-b5f8-3b5a8f982679",
   "metadata": {},
   "outputs": [
    {
     "name": "stdout",
     "output_type": "stream",
     "text": [
      "\n",
      "After Discretization:\n",
      "    Maths  Science Maths_Category\n",
      "0   85.0     78.0           High\n",
      "1  261.4     92.0           High\n",
      "2   75.0     85.0         Medium\n",
      "3   88.0     85.0           High\n",
      "4   60.0     70.0            Low\n",
      "5  999.0    100.0           High\n"
     ]
    },
    {
     "name": "stderr",
     "output_type": "stream",
     "text": [
      "C:\\Users\\macha\\AppData\\Local\\Temp\\ipykernel_19720\\2582357159.py:3: SettingWithCopyWarning: \n",
      "A value is trying to be set on a copy of a slice from a DataFrame.\n",
      "Try using .loc[row_indexer,col_indexer] = value instead\n",
      "\n",
      "See the caveats in the documentation: https://pandas.pydata.org/pandas-docs/stable/user_guide/indexing.html#returning-a-view-versus-a-copy\n",
      "  df_selected['Maths_Category'] = pd.cut(df_selected['Maths'], bins=bins, labels=labels)\n"
     ]
    }
   ],
   "source": [
    "bins = [0, 60, 80, 1000]\n",
    "labels = ['Low', 'Medium', 'High']\n",
    "df_selected['Maths_Category'] = pd.cut(df_selected['Maths'], bins=bins, labels=labels)\n",
    "print(\"\\nAfter Discretization:\\n\", df_selected)\n"
   ]
  },
  {
   "cell_type": "code",
   "execution_count": 20,
   "id": "451fb86a-8a51-4143-a05c-94582d187ea9",
   "metadata": {},
   "outputs": [
    {
     "name": "stdout",
     "output_type": "stream",
     "text": [
      "\n",
      "After Outlier Elimination:\n",
      "    Maths  Science Maths_Category\n",
      "0   85.0     78.0           High\n",
      "1  261.4     92.0           High\n",
      "2   75.0     85.0         Medium\n",
      "3   88.0     85.0           High\n",
      "4   60.0     70.0            Low\n"
     ]
    }
   ],
   "source": [
    "def remove_outliers_iqr(df, column):\n",
    "    Q1 = df[column].quantile(0.25)\n",
    "    Q3 = df[column].quantile(0.75)\n",
    "    IQR = Q3 - Q1\n",
    "    lower = Q1 - 1.5 * IQR\n",
    "    upper = Q3 + 1.5 * IQR\n",
    "    return df[(df[column] >= lower) & (df[column] <= upper)]\n",
    "\n",
    "# Remove outliers from Maths\n",
    "df_clean = remove_outliers_iqr(df_selected, 'Maths')\n",
    "print(\"\\nAfter Outlier Elimination:\\n\", df_clean)\n"
   ]
  },
  {
   "cell_type": "code",
   "execution_count": null,
   "id": "c6379570-b560-44e0-a954-687c7ca5cca2",
   "metadata": {},
   "outputs": [],
   "source": []
  }
 ],
 "metadata": {
  "kernelspec": {
   "display_name": "Python [conda env:base] *",
   "language": "python",
   "name": "conda-base-py"
  },
  "language_info": {
   "codemirror_mode": {
    "name": "ipython",
    "version": 3
   },
   "file_extension": ".py",
   "mimetype": "text/x-python",
   "name": "python",
   "nbconvert_exporter": "python",
   "pygments_lexer": "ipython3",
   "version": "3.12.7"
  }
 },
 "nbformat": 4,
 "nbformat_minor": 5
}
